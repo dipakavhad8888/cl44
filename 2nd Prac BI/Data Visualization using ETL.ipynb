{
 "cells": [
  {
   "cell_type": "markdown",
   "id": "98a3f68b-a1f1-4e71-bcdb-c08053faf09f",
   "metadata": {},
   "source": [
    "# Problem Statement\n",
    "* Data Visualization from Extraction Transformation and Loading (ETL) Process"
   ]
  },
  {
   "cell_type": "markdown",
   "id": "d60eaf3f-ac20-4ba9-bd4a-df856ab2d46e",
   "metadata": {},
   "source": [
    "## 1. Extract\n",
    "> process of retrieving raw data from various source systems "
   ]
  },
  {
   "cell_type": "code",
   "execution_count": 11,
   "id": "58fad13b-fb5d-4512-9b43-138f72350cf3",
   "metadata": {},
   "outputs": [],
   "source": [
    "import pandas as pd\n",
    "\n",
    "oracle_df = pd.read_csv('large_oracle_data.csv')\n",
    "sql_df = pd.read_csv('large_sql_data.csv')\n",
    "sales_df = pd.read_excel('large_sales_data.xlsx')\n",
    "\n",
    "cols = oracle_df.columns\n",
    "data = [oracle_df, sql_df, sales_df]"
   ]
  },
  {
   "cell_type": "code",
   "execution_count": 12,
   "id": "dcf7f0a8-f7bc-4461-9f9e-7dc67a9ee3c6",
   "metadata": {},
   "outputs": [
    {
     "data": {
      "text/plain": [
       "(   order_id  order_date product_category  sales\n",
       " 0      2001  2024-09-01         Clothing    961\n",
       " 1      2002  2024-09-02         Clothing    998\n",
       " 2      2003  2024-09-03         Clothing    689\n",
       " 3      2004  2024-09-04       Appliances    454\n",
       " 4      2005  2024-09-05       Appliances    508,\n",
       "    order_id  order_date product_category  sales\n",
       " 0      1001  2024-05-01       Appliances    837\n",
       " 1      1002  2024-05-02        Furniture    935\n",
       " 2      1003  2024-05-03        Furniture    309\n",
       " 3      1004  2024-05-04        Furniture    190\n",
       " 4      1005  2024-05-05             Toys    985,\n",
       "    order_id order_date product_category  sales\n",
       " 0         1 2024-01-01             Toys    743\n",
       " 1         2 2024-01-02         Clothing    333\n",
       " 2         3 2024-01-03       Appliances    607\n",
       " 3         4 2024-01-04             Toys    139\n",
       " 4         5 2024-01-05             Toys    465)"
      ]
     },
     "execution_count": 12,
     "metadata": {},
     "output_type": "execute_result"
    }
   ],
   "source": [
    "oracle_df.head(), sql_df.head(), sales_df.head()"
   ]
  },
  {
   "cell_type": "markdown",
   "id": "6b60c8af-9355-474c-ab0c-95b9a7b96e8d",
   "metadata": {},
   "source": [
    "## 2. Transform"
   ]
  },
  {
   "cell_type": "markdown",
   "id": "e650feaf-a1db-4e29-938f-52c3138eb3bf",
   "metadata": {},
   "source": [
    "### a) Cleansing"
   ]
  },
  {
   "cell_type": "code",
   "execution_count": 13,
   "id": "9396c903-5cc8-41ac-9678-0c625b443c62",
   "metadata": {},
   "outputs": [
    {
     "data": {
      "text/html": [
       "<div>\n",
       "<style scoped>\n",
       "    .dataframe tbody tr th:only-of-type {\n",
       "        vertical-align: middle;\n",
       "    }\n",
       "\n",
       "    .dataframe tbody tr th {\n",
       "        vertical-align: top;\n",
       "    }\n",
       "\n",
       "    .dataframe thead th {\n",
       "        text-align: right;\n",
       "    }\n",
       "</style>\n",
       "<table border=\"1\" class=\"dataframe\">\n",
       "  <thead>\n",
       "    <tr style=\"text-align: right;\">\n",
       "      <th></th>\n",
       "      <th>oracle_df</th>\n",
       "      <th>sql_df</th>\n",
       "      <th>sales_df</th>\n",
       "    </tr>\n",
       "  </thead>\n",
       "  <tbody>\n",
       "    <tr>\n",
       "      <th>order_id</th>\n",
       "      <td>0</td>\n",
       "      <td>0</td>\n",
       "      <td>0</td>\n",
       "    </tr>\n",
       "    <tr>\n",
       "      <th>order_date</th>\n",
       "      <td>0</td>\n",
       "      <td>0</td>\n",
       "      <td>0</td>\n",
       "    </tr>\n",
       "    <tr>\n",
       "      <th>product_category</th>\n",
       "      <td>0</td>\n",
       "      <td>0</td>\n",
       "      <td>0</td>\n",
       "    </tr>\n",
       "    <tr>\n",
       "      <th>sales</th>\n",
       "      <td>0</td>\n",
       "      <td>0</td>\n",
       "      <td>0</td>\n",
       "    </tr>\n",
       "  </tbody>\n",
       "</table>\n",
       "</div>"
      ],
      "text/plain": [
       "                  oracle_df  sql_df  sales_df\n",
       "order_id                  0       0         0\n",
       "order_date                0       0         0\n",
       "product_category          0       0         0\n",
       "sales                     0       0         0"
      ]
     },
     "execution_count": 13,
     "metadata": {},
     "output_type": "execute_result"
    }
   ],
   "source": [
    "pd.DataFrame({'oracle_df':oracle_df.isna().sum().values,\n",
    "          'sql_df':sql_df.isna().sum().values,\n",
    "          'sales_df':sales_df.isna().sum().values},index=oracle_df.columns)\n",
    "\n",
    "# No missing values or NA Values found so no cleansing required"
   ]
  },
  {
   "cell_type": "markdown",
   "id": "117378f1-c8a6-4ca5-bff9-42870a4fc761",
   "metadata": {},
   "source": [
    "### b) Filtering"
   ]
  },
  {
   "cell_type": "code",
   "execution_count": 14,
   "id": "be97d2cb-abc6-47c9-a3c7-bc4ddfadb051",
   "metadata": {},
   "outputs": [
    {
     "name": "stdout",
     "output_type": "stream",
     "text": [
      "   order_date product_category  sales\n",
      "0  2024-09-01         Clothing    961\n",
      "1  2024-09-02         Clothing    998\n",
      "2  2024-09-03         Clothing    689\n",
      "3  2024-09-04       Appliances    454\n",
      "4  2024-09-05       Appliances    508 \n",
      "\n",
      "\n",
      "   order_date product_category  sales\n",
      "0  2024-05-01       Appliances    837\n",
      "1  2024-05-02        Furniture    935\n",
      "2  2024-05-03        Furniture    309\n",
      "3  2024-05-04        Furniture    190\n",
      "4  2024-05-05             Toys    985 \n",
      "\n",
      "\n",
      "  order_date product_category  sales\n",
      "0 2024-01-01             Toys    743\n",
      "1 2024-01-02         Clothing    333\n",
      "2 2024-01-03       Appliances    607\n",
      "3 2024-01-04             Toys    139\n",
      "4 2024-01-05             Toys    465 \n",
      "\n",
      "\n"
     ]
    }
   ],
   "source": [
    "for df in data:\n",
    "    df.drop('order_id',axis=1,inplace=True)\n",
    "\n",
    "for df in data:\n",
    "    print(df.head(),'\\n\\n')"
   ]
  },
  {
   "cell_type": "markdown",
   "id": "54796e74-5d8c-4857-a687-69ddc3902c06",
   "metadata": {},
   "source": [
    "### c) Aggregating"
   ]
  },
  {
   "cell_type": "code",
   "execution_count": 15,
   "id": "0665ab96-bb41-4762-bdcc-8e3ce843f82e",
   "metadata": {},
   "outputs": [
    {
     "name": "stdout",
     "output_type": "stream",
     "text": [
      "                   sales\n",
      "product_category        \n",
      "Appliances        108585\n",
      "Clothing          111543\n",
      "Electronics       102196\n",
      "Furniture         119501\n",
      "Toys              119428 \n",
      "\n",
      "\n",
      "                   sales\n",
      "product_category        \n",
      "Appliances        119043\n",
      "Clothing          107451\n",
      "Electronics       110935\n",
      "Furniture         109847\n",
      "Toys              114767 \n",
      "\n",
      "\n",
      "                   sales\n",
      "product_category        \n",
      "Appliances        107710\n",
      "Clothing           96096\n",
      "Electronics       100432\n",
      "Furniture         117269\n",
      "Toys              108232 \n",
      "\n",
      "\n"
     ]
    }
   ],
   "source": [
    "aggregate_data = []\n",
    "\n",
    "for df in data:\n",
    "    aggregate_data.append(df.drop('order_date',axis=1).groupby(by='product_category').sum())\n",
    "\n",
    "for df in aggregate_data:\n",
    "    print(df.head(),'\\n\\n')"
   ]
  },
  {
   "cell_type": "markdown",
   "id": "ebec78da-3f93-43eb-84a2-8c23621521cf",
   "metadata": {},
   "source": [
    "### d) Data type conversions"
   ]
  },
  {
   "cell_type": "code",
   "execution_count": 18,
   "id": "9082c409-0f79-4626-8669-fd91b31ebfcf",
   "metadata": {},
   "outputs": [
    {
     "name": "stdout",
     "output_type": "stream",
     "text": [
      "order_date          datetime64[ns]\n",
      "product_category            object\n",
      "sales                        int64\n",
      "dtype: object \n",
      "\n",
      "\n",
      "order_date          datetime64[ns]\n",
      "product_category            object\n",
      "sales                        int64\n",
      "dtype: object \n",
      "\n",
      "\n",
      "order_date          datetime64[ns]\n",
      "product_category            object\n",
      "sales                        int64\n",
      "dtype: object \n",
      "\n",
      "\n"
     ]
    }
   ],
   "source": [
    "for df in data:\n",
    "    df['order_date'] = df['order_date'].astype('datetime64[ns]')\n",
    "    df['sales'] = df['sales'].astype('int64')\n",
    "\n",
    "for df in data:\n",
    "    print(df.dtypes,'\\n\\n')"
   ]
  },
  {
   "cell_type": "markdown",
   "id": "da279bd2-6270-4450-a1c7-fab88907eaed",
   "metadata": {},
   "source": [
    "### e) Joining multiple datasets"
   ]
  },
  {
   "cell_type": "code",
   "execution_count": 33,
   "id": "9f4df3e7-ff3e-4c97-95cc-91a0dd118b54",
   "metadata": {},
   "outputs": [
    {
     "data": {
      "text/html": [
       "<div>\n",
       "<style scoped>\n",
       "    .dataframe tbody tr th:only-of-type {\n",
       "        vertical-align: middle;\n",
       "    }\n",
       "\n",
       "    .dataframe tbody tr th {\n",
       "        vertical-align: top;\n",
       "    }\n",
       "\n",
       "    .dataframe thead th {\n",
       "        text-align: right;\n",
       "    }\n",
       "</style>\n",
       "<table border=\"1\" class=\"dataframe\">\n",
       "  <thead>\n",
       "    <tr style=\"text-align: right;\">\n",
       "      <th></th>\n",
       "      <th>order_date</th>\n",
       "      <th>product_category</th>\n",
       "      <th>sales</th>\n",
       "    </tr>\n",
       "  </thead>\n",
       "  <tbody>\n",
       "    <tr>\n",
       "      <th>0</th>\n",
       "      <td>2024-09-01</td>\n",
       "      <td>Clothing</td>\n",
       "      <td>961</td>\n",
       "    </tr>\n",
       "    <tr>\n",
       "      <th>1</th>\n",
       "      <td>2024-09-02</td>\n",
       "      <td>Clothing</td>\n",
       "      <td>998</td>\n",
       "    </tr>\n",
       "    <tr>\n",
       "      <th>2</th>\n",
       "      <td>2024-09-03</td>\n",
       "      <td>Clothing</td>\n",
       "      <td>689</td>\n",
       "    </tr>\n",
       "    <tr>\n",
       "      <th>3</th>\n",
       "      <td>2024-09-04</td>\n",
       "      <td>Appliances</td>\n",
       "      <td>454</td>\n",
       "    </tr>\n",
       "    <tr>\n",
       "      <th>4</th>\n",
       "      <td>2024-09-05</td>\n",
       "      <td>Appliances</td>\n",
       "      <td>508</td>\n",
       "    </tr>\n",
       "  </tbody>\n",
       "</table>\n",
       "</div>"
      ],
      "text/plain": [
       "  order_date product_category  sales\n",
       "0 2024-09-01         Clothing    961\n",
       "1 2024-09-02         Clothing    998\n",
       "2 2024-09-03         Clothing    689\n",
       "3 2024-09-04       Appliances    454\n",
       "4 2024-09-05       Appliances    508"
      ]
     },
     "execution_count": 33,
     "metadata": {},
     "output_type": "execute_result"
    }
   ],
   "source": [
    "merged_df = pd.concat(data, ignore_index=True)\n",
    "merged_df.head()"
   ]
  },
  {
   "cell_type": "markdown",
   "id": "3d9cf93b-b014-4f37-b893-173f72830c7c",
   "metadata": {},
   "source": [
    "### f) Normalization"
   ]
  },
  {
   "cell_type": "code",
   "execution_count": 34,
   "id": "b2464a15-f584-4644-b5f1-73822710f36e",
   "metadata": {},
   "outputs": [],
   "source": [
    "from sklearn.preprocessing import MinMaxScaler\n",
    "\n",
    "min_max_scaler = MinMaxScaler()\n",
    "merged_df['sales'] = min_max_scaler.fit_transform(merged_df[['sales']])"
   ]
  },
  {
   "cell_type": "code",
   "execution_count": 36,
   "id": "73eb4182-45d6-42d6-8400-752ae8ba1de7",
   "metadata": {},
   "outputs": [
    {
     "data": {
      "text/html": [
       "<div>\n",
       "<style scoped>\n",
       "    .dataframe tbody tr th:only-of-type {\n",
       "        vertical-align: middle;\n",
       "    }\n",
       "\n",
       "    .dataframe tbody tr th {\n",
       "        vertical-align: top;\n",
       "    }\n",
       "\n",
       "    .dataframe thead th {\n",
       "        text-align: right;\n",
       "    }\n",
       "</style>\n",
       "<table border=\"1\" class=\"dataframe\">\n",
       "  <thead>\n",
       "    <tr style=\"text-align: right;\">\n",
       "      <th></th>\n",
       "      <th>order_date</th>\n",
       "      <th>product_category</th>\n",
       "      <th>sales</th>\n",
       "    </tr>\n",
       "  </thead>\n",
       "  <tbody>\n",
       "    <tr>\n",
       "      <th>0</th>\n",
       "      <td>2024-09-01</td>\n",
       "      <td>Clothing</td>\n",
       "      <td>0.957731</td>\n",
       "    </tr>\n",
       "    <tr>\n",
       "      <th>1</th>\n",
       "      <td>2024-09-02</td>\n",
       "      <td>Clothing</td>\n",
       "      <td>0.998888</td>\n",
       "    </tr>\n",
       "    <tr>\n",
       "      <th>2</th>\n",
       "      <td>2024-09-03</td>\n",
       "      <td>Clothing</td>\n",
       "      <td>0.655172</td>\n",
       "    </tr>\n",
       "    <tr>\n",
       "      <th>3</th>\n",
       "      <td>2024-09-04</td>\n",
       "      <td>Appliances</td>\n",
       "      <td>0.393771</td>\n",
       "    </tr>\n",
       "    <tr>\n",
       "      <th>4</th>\n",
       "      <td>2024-09-05</td>\n",
       "      <td>Appliances</td>\n",
       "      <td>0.453838</td>\n",
       "    </tr>\n",
       "  </tbody>\n",
       "</table>\n",
       "</div>"
      ],
      "text/plain": [
       "  order_date product_category     sales\n",
       "0 2024-09-01         Clothing  0.957731\n",
       "1 2024-09-02         Clothing  0.998888\n",
       "2 2024-09-03         Clothing  0.655172\n",
       "3 2024-09-04       Appliances  0.393771\n",
       "4 2024-09-05       Appliances  0.453838"
      ]
     },
     "execution_count": 36,
     "metadata": {},
     "output_type": "execute_result"
    }
   ],
   "source": [
    "merged_df.head()"
   ]
  },
  {
   "cell_type": "markdown",
   "id": "24e393e7-dbf3-4132-b5e0-f8ad887994b5",
   "metadata": {},
   "source": [
    "## 3. Load"
   ]
  },
  {
   "cell_type": "markdown",
   "id": "415c38f5-0e03-4f2e-a84d-27d0259524e2",
   "metadata": {},
   "source": [
    "> The data is ready to be inserted into data warehouses and further processing can be done on it."
   ]
  },
  {
   "cell_type": "markdown",
   "id": "5bdf6be5-53e2-4d20-aa1a-d9fcf6ace2c6",
   "metadata": {},
   "source": [
    "## Visualization"
   ]
  },
  {
   "cell_type": "code",
   "execution_count": 80,
   "id": "0941256a-f243-46c5-92e7-6bab09c7c677",
   "metadata": {},
   "outputs": [],
   "source": [
    "import matplotlib.pyplot as plt\n",
    "\n",
    "categories = aggregate_data[0].index.to_list()\n",
    "\n",
    "def plot_aggreagate_data(df, categories):\n",
    "    plt.figure(figsize=(12, 6))\n",
    "    plt.bar(x=categories,height=df.values.ravel())\n",
    "    plt.title('Total Revenue by Product')\n",
    "    plt.xlabel('Product')\n",
    "    plt.ylabel('Total Revenue');"
   ]
  },
  {
   "cell_type": "code",
   "execution_count": 81,
   "id": "e0a494f2-b90b-454d-ac3e-02834cfef9ff",
   "metadata": {},
   "outputs": [
    {
     "data": {
      "image/png": "[encoded data removed]",
      "text/plain": [
       "<Figure size 1200x600 with 1 Axes>"
      ]
     },
     "metadata": {},
     "output_type": "display_data"
    },
    {
     "data": {
      "image/png": "[encoded data removed]",
      "text/plain": [
       "<Figure size 1200x600 with 1 Axes>"
      ]
     },
     "metadata": {},
     "output_type": "display_data"
    },
    {
     "data": {
      "image/png": "[encoded data removed]",
      "text/plain": [
       "<Figure size 1200x600 with 1 Axes>"
      ]
     },
     "metadata": {},
     "output_type": "display_data"
    }
   ],
   "source": [
    "for df in aggregate_data:\n",
    "    plot_aggreagate_data(df, categories)"
   ]
  },
  {
   "cell_type": "code",
   "execution_count": null,
   "id": "8454b268-8b26-450c-860c-aeddf61cf62c",
   "metadata": {},
   "outputs": [],
   "source": []
  }
 ],
 "metadata": {
  "kernelspec": {
   "display_name": "Python 3 (ipykernel)",
   "language": "python",
   "name": "python3"
  },
  "language_info": {
   "codemirror_mode": {
    "name": "ipython",
    "version": 3
   },
   "file_extension": ".py",
   "mimetype": "text/x-python",
   "name": "python",
   "nbconvert_exporter": "python",
   "pygments_lexer": "ipython3",
   "version": "3.13.2"
  }
 },
 "nbformat": 4,
 "nbformat_minor": 5
}
